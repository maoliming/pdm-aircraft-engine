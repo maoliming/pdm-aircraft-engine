{
 "cells": [
  {
   "cell_type": "markdown",
   "metadata": {},
   "source": [
    "# Training The NN Model"
   ]
  },
  {
   "cell_type": "code",
   "execution_count": 1,
   "metadata": {},
   "outputs": [
    {
     "name": "stdout",
     "output_type": "stream",
     "text": [
      "working directory in /Users/syahrulhamdani/Desktop/thesis/predictive-maintenance-of-aircraft-engine..\n"
     ]
    }
   ],
   "source": [
    "# import things\n",
    "import sys\n",
    "import os\n",
    "import json\n",
    "import numpy as np\n",
    "import torch\n",
    "import torch.nn as nn\n",
    "import torch.nn.functional as F\n",
    "\n",
    "# change directory\n",
    "os.chdir('/Users/syahrulhamdani/Desktop/thesis/predictive-maintenance-of-aircraft-engine/')\n",
    "print('working directory in {}..'.format(os.getcwd()))"
   ]
  },
  {
   "cell_type": "code",
   "execution_count": 2,
   "metadata": {},
   "outputs": [],
   "source": [
    "# import modules\n",
    "from src.data import LoadData, list_dataset\n",
    "from src.models import NN"
   ]
  },
  {
   "cell_type": "code",
   "execution_count": 3,
   "metadata": {},
   "outputs": [
    {
     "data": {
      "text/plain": [
       "{'train_FD001': 'train_FD001.txt',\n",
       " 'train_FD003': 'train_FD003.txt',\n",
       " 'RUL_FD004': 'RUL_FD004.txt',\n",
       " 'train_FD002': 'train_FD002.txt',\n",
       " 'RUL_FD001': 'RUL_FD001.txt',\n",
       " 'RUL_FD003': 'RUL_FD003.txt',\n",
       " 'RUL_FD002': 'RUL_FD002.txt',\n",
       " 'train_FD004': 'train_FD004.txt',\n",
       " 'test_FD003': 'test_FD003.txt',\n",
       " 'test_FD002': 'test_FD002.txt',\n",
       " 'test_FD001': 'test_FD001.txt',\n",
       " 'test_FD004': 'test_FD004.txt'}"
      ]
     },
     "execution_count": 3,
     "metadata": {},
     "output_type": "execute_result"
    }
   ],
   "source": [
    "datalist = list_dataset()\n",
    "datalist"
   ]
  },
  {
   "cell_type": "code",
   "execution_count": 4,
   "metadata": {},
   "outputs": [
    {
     "data": {
      "text/plain": [
       "['EngineID',\n",
       " 'Cycle',\n",
       " 'OpSetting1',\n",
       " 'OpSetting2',\n",
       " 'OpSetting3',\n",
       " 'T2',\n",
       " 'T24',\n",
       " 'T30',\n",
       " 'T50',\n",
       " 'P2',\n",
       " 'P15',\n",
       " 'P30',\n",
       " 'Nf',\n",
       " 'Nc',\n",
       " 'epr',\n",
       " 'Ps30',\n",
       " 'phi',\n",
       " 'NRf',\n",
       " 'NRc',\n",
       " 'BPR',\n",
       " 'farB',\n",
       " 'htBleed',\n",
       " 'Nf_dmd',\n",
       " 'PCNfR_dmd',\n",
       " 'W31',\n",
       " 'W32']"
      ]
     },
     "execution_count": 4,
     "metadata": {},
     "output_type": "execute_result"
    }
   ],
   "source": [
    "with open('references/col_to_feat.json', 'r') as f:\n",
    "    data = json.load(f)\n",
    "feature_names = list(data.values())\n",
    "feature_names"
   ]
  },
  {
   "cell_type": "code",
   "execution_count": 5,
   "metadata": {},
   "outputs": [
    {
     "name": "stdout",
     "output_type": "stream",
     "text": [
      "(20631, 26) (20631,)\n"
     ]
    }
   ],
   "source": [
    "data = LoadData(datalist['train_FD001'], names=feature_names, sep='\\s+')\n",
    "print(data.features.shape, data.target.shape)"
   ]
  },
  {
   "cell_type": "code",
   "execution_count": 6,
   "metadata": {},
   "outputs": [],
   "source": [
    "data.save_interim('data/interim', names=feature_names)"
   ]
  },
  {
   "cell_type": "markdown",
   "metadata": {},
   "source": [
    "After doing preprocessing above, now we can define the training step as follows:\n",
    "1. Define the model with required arguments\n",
    "2. Initialize model hyperparameters\n",
    "3. Initialize criterion and optimizer\n",
    "4. Build the pipeline"
   ]
  },
  {
   "cell_type": "code",
   "execution_count": null,
   "metadata": {},
   "outputs": [],
   "source": [
    "# TODO"
   ]
  }
 ],
 "metadata": {
  "kernelspec": {
   "display_name": "Python 3",
   "language": "python",
   "name": "python3"
  },
  "language_info": {
   "codemirror_mode": {
    "name": "ipython",
    "version": 3
   },
   "file_extension": ".py",
   "mimetype": "text/x-python",
   "name": "python",
   "nbconvert_exporter": "python",
   "pygments_lexer": "ipython3",
   "version": "3.6.6"
  }
 },
 "nbformat": 4,
 "nbformat_minor": 2
}
