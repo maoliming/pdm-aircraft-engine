{
 "cells": [
  {
   "cell_type": "code",
   "execution_count": 14,
   "metadata": {},
   "outputs": [],
   "source": [
    "import os\n",
    "import json\n",
    "import numpy as np\n",
    "import pandas as pd\n",
    "import torch\n",
    "from torchvision import datasets\n",
    "import matplotlib.pyplot as plt\n",
    "import datetime\n",
    "\n",
    "# change working directory\n",
    "os.chdir('/Users/syahrulhamdani/Desktop/thesis/predictive-maintenance-of-aircraft-engine/')\n",
    "\n",
    "from utils import cli, make_dataset, model, visualize"
   ]
  },
  {
   "cell_type": "code",
   "execution_count": 5,
   "metadata": {},
   "outputs": [
    {
     "name": "stdout",
     "output_type": "stream",
     "text": [
      "192 90\n",
      "181 15\n",
      "32 10\n"
     ]
    }
   ],
   "source": [
    "d = {192: 90, 181: 15, 32: 10}\n",
    "for key, value in d.items():\n",
    "    print(key, value)"
   ]
  },
  {
   "cell_type": "code",
   "execution_count": 8,
   "metadata": {},
   "outputs": [],
   "source": [
    "def rul_estimation(model, signals, label_dict, device):\n",
    "    \"\"\"Validate model on validation set using the same criterion\n",
    "    with trained model.\n",
    "    \n",
    "    parameters\n",
    "    ----------\n",
    "    model: trained model\n",
    "    signals: PyTorch loader for feature data\n",
    "    label_dict (dict): label dictionary with cycle length as keys\n",
    "                        and RULs as value\n",
    "    device: device to use to do validation\n",
    "    \n",
    "    returns\n",
    "    -------\n",
    "    None\n",
    "    \n",
    "    Save line plot of predicted RUL in ``reports``\n",
    "    \"\"\"\n",
    "    model.to(device)\n",
    "    model.eval()\n",
    "    \n",
    "    with torch.no_grad():\n",
    "        signal = make_tensor(signals)\n",
    "        signal = signal.type(torch.FloatTensor).to(device)\n",
    "        output = model(signal)\n",
    "    \n",
    "    np_output = output.numpy()\n",
    "    np_output = np_output.reshape(np_output.shape[0]).astype(np.int)\n",
    "    engine = 0\n",
    "    for cycle_length, rul in label_dict.items():\n",
    "        engine += 1\n",
    "        plt.plot(range(cycle_length), np_output[:cycle_length])\n",
    "        plt.plot(range(cycle_length), rul)\n",
    "        plt.title('Remaining Useful Life progression of engine-{}'.format(engine))\n",
    "        plt.legend(['predicted RUL', 'original RUL'])\n",
    "        plt.ylim(bottom=0)\n",
    "        plt.xlim(left=0)\n",
    "        if engine % 10 == 0:\n",
    "            plt.show()\n",
    "        plt.savefig('Engine-{} rul estimation'.format(engine))"
   ]
  },
  {
   "cell_type": "code",
   "execution_count": 9,
   "metadata": {},
   "outputs": [],
   "source": [
    "def make_tensor(signal, scaler):\n",
    "    scaled_signal = scaler.transform(signal)\n",
    "    scaled_signal = torch.from_numpy(scaled_signal)\n",
    "    \n",
    "    return scaled_signal"
   ]
  },
  {
   "cell_type": "code",
   "execution_count": 45,
   "metadata": {},
   "outputs": [
    {
     "data": {
      "text/plain": [
       "datetime.time(22, 44, 20, 394082)"
      ]
     },
     "execution_count": 45,
     "metadata": {},
     "output_type": "execute_result"
    }
   ],
   "source": [
    "def load_model()"
   ]
  },
  {
   "cell_type": "code",
   "execution_count": null,
   "metadata": {},
   "outputs": [],
   "source": []
  }
 ],
 "metadata": {
  "kernelspec": {
   "display_name": "Python 3",
   "language": "python",
   "name": "python3"
  },
  "language_info": {
   "codemirror_mode": {
    "name": "ipython",
    "version": 3
   },
   "file_extension": ".py",
   "mimetype": "text/x-python",
   "name": "python",
   "nbconvert_exporter": "python",
   "pygments_lexer": "ipython3",
   "version": "3.6.6"
  }
 },
 "nbformat": 4,
 "nbformat_minor": 2
}
